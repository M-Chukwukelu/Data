{
 "cells": [
  {
   "cell_type": "code",
   "execution_count": 1,
   "id": "5bb0505c",
   "metadata": {},
   "outputs": [],
   "source": [
    "import pandas as pd\n",
    "trees = pd.read_csv('redwood_data.txt', delimiter='\\t')"
   ]
  },
  {
   "cell_type": "code",
   "execution_count": 2,
   "id": "041111cd",
   "metadata": {},
   "outputs": [
    {
     "name": "stdout",
     "output_type": "stream",
     "text": [
      "The tree with the largest diameter is Stratosphere Giant with a diameter of 5.18 m.\n"
     ]
    }
   ],
   "source": [
    "index = trees[\"diameter (m)\"].idxmax()#gets the index of the row with the largest diameter\n",
    "diameter_tree = trees.at[index, \"Tree name\"]#gets the tree name at that index\n",
    "diameter = trees.at[index, \"diameter (m)\"]#gets diameter at that index\n",
    "print(f\"The tree with the largest diameter is {diameter_tree} with a diameter of {diameter} m.\")"
   ]
  },
  {
   "cell_type": "code",
   "execution_count": 3,
   "id": "18242284",
   "metadata": {},
   "outputs": [
    {
     "name": "stdout",
     "output_type": "stream",
     "text": [
      "The tree with the largest height is Hyperion with a height of 115.61 m.\n"
     ]
    }
   ],
   "source": [
    "#basically repeats the code in the shell abave but with height\n",
    "index_2 = trees[\"height (m)\"].idxmax()\n",
    "height_tree = trees.at[index_2, \"Tree name\"]\n",
    "height = trees.at[index_2, \"height (m)\"]\n",
    "print(f\"The tree with the largest height is {height_tree} with a height of {height} m.\")"
   ]
  }
 ],
 "metadata": {
  "kernelspec": {
   "display_name": "Python 3 (ipykernel)",
   "language": "python",
   "name": "python3"
  },
  "language_info": {
   "codemirror_mode": {
    "name": "ipython",
    "version": 3
   },
   "file_extension": ".py",
   "mimetype": "text/x-python",
   "name": "python",
   "nbconvert_exporter": "python",
   "pygments_lexer": "ipython3",
   "version": "3.9.13"
  }
 },
 "nbformat": 4,
 "nbformat_minor": 5
}
